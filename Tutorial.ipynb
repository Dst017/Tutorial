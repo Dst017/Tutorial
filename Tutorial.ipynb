{
 "cells": [
  {
   "cell_type": "code",
   "execution_count": 121,
   "id": "improved-deadline",
   "metadata": {},
   "outputs": [],
   "source": [
    "import pandas as pd\n",
    "import numpy as np\n",
    "import sklearn\n",
    "import warnings\n",
    "from plotnine import ggplot, aes, geom_line, geom_point, labs, theme_bw"
   ]
  },
  {
   "cell_type": "markdown",
   "id": "black-quilt",
   "metadata": {},
   "source": [
    "# Dependencies\n",
    "You probably already have pandas, numpy and sklearn on your machine, and the warnings package should be built in.\n",
    "\n",
    "Install plotnine using either  \n",
    "\n",
    "Pip\n",
    "```\n",
    "$ pip install plotnine\n",
    "```\n",
    "Conda\n",
    "```\n",
    "$ conda install -c conda-forge plotnine\n",
    "```"
   ]
  },
  {
   "cell_type": "markdown",
   "id": "acquired-swiss",
   "metadata": {},
   "source": [
    "# Introduction\n",
    "## The Data\n",
    "This Dataset includes 1028 instances of all official Pokémon and their special variations and forms. It is up to date as of May 2020. The dataset was originally found on [Kaggle](https://www.kaggle.com/). Its contents were web scraped from [Pokemondb](https://pokemondb.net/) and [Serebii](https://serebii.net/). There was some information missing from the dataset, which I manually filled in by referencing [Bulbapedia](https://bulbapedia.bulbagarden.net/wiki/Main_Page). All of these websites are online Pokémon databases.\n",
    "\n",
    "There are 50 different columns in this dataset. Descriptions for all of the variables can be found on the dataset's [Kaggle page](https://www.kaggle.com/mariotormo/complete-pokemon-dataset-updated-090420).\n"
   ]
  },
  {
   "cell_type": "code",
   "execution_count": 122,
   "id": "previous-gateway",
   "metadata": {},
   "outputs": [
    {
     "data": {
      "text/html": [
       "<div>\n",
       "<style scoped>\n",
       "    .dataframe tbody tr th:only-of-type {\n",
       "        vertical-align: middle;\n",
       "    }\n",
       "\n",
       "    .dataframe tbody tr th {\n",
       "        vertical-align: top;\n",
       "    }\n",
       "\n",
       "    .dataframe thead th {\n",
       "        text-align: right;\n",
       "    }\n",
       "</style>\n",
       "<table border=\"1\" class=\"dataframe\">\n",
       "  <thead>\n",
       "    <tr style=\"text-align: right;\">\n",
       "      <th></th>\n",
       "      <th>pokedex_number</th>\n",
       "      <th>name</th>\n",
       "      <th>german_name</th>\n",
       "      <th>japanese_name</th>\n",
       "      <th>generation</th>\n",
       "      <th>status</th>\n",
       "      <th>species</th>\n",
       "      <th>type_number</th>\n",
       "      <th>type_1</th>\n",
       "      <th>type_2</th>\n",
       "      <th>...</th>\n",
       "      <th>against_ground</th>\n",
       "      <th>against_flying</th>\n",
       "      <th>against_psychic</th>\n",
       "      <th>against_bug</th>\n",
       "      <th>against_rock</th>\n",
       "      <th>against_ghost</th>\n",
       "      <th>against_dragon</th>\n",
       "      <th>against_dark</th>\n",
       "      <th>against_steel</th>\n",
       "      <th>against_fairy</th>\n",
       "    </tr>\n",
       "  </thead>\n",
       "  <tbody>\n",
       "    <tr>\n",
       "      <th>0</th>\n",
       "      <td>1</td>\n",
       "      <td>Bulbasaur</td>\n",
       "      <td>Bisasam</td>\n",
       "      <td>フシギダネ (Fushigidane)</td>\n",
       "      <td>1</td>\n",
       "      <td>Normal</td>\n",
       "      <td>Seed Pokémon</td>\n",
       "      <td>2</td>\n",
       "      <td>Grass</td>\n",
       "      <td>Poison</td>\n",
       "      <td>...</td>\n",
       "      <td>1.0</td>\n",
       "      <td>2.0</td>\n",
       "      <td>2.0</td>\n",
       "      <td>1.0</td>\n",
       "      <td>1.0</td>\n",
       "      <td>1.0</td>\n",
       "      <td>1.0</td>\n",
       "      <td>1.0</td>\n",
       "      <td>1.0</td>\n",
       "      <td>0.5</td>\n",
       "    </tr>\n",
       "    <tr>\n",
       "      <th>1</th>\n",
       "      <td>2</td>\n",
       "      <td>Ivysaur</td>\n",
       "      <td>Bisaknosp</td>\n",
       "      <td>フシギソウ (Fushigisou)</td>\n",
       "      <td>1</td>\n",
       "      <td>Normal</td>\n",
       "      <td>Seed Pokémon</td>\n",
       "      <td>2</td>\n",
       "      <td>Grass</td>\n",
       "      <td>Poison</td>\n",
       "      <td>...</td>\n",
       "      <td>1.0</td>\n",
       "      <td>2.0</td>\n",
       "      <td>2.0</td>\n",
       "      <td>1.0</td>\n",
       "      <td>1.0</td>\n",
       "      <td>1.0</td>\n",
       "      <td>1.0</td>\n",
       "      <td>1.0</td>\n",
       "      <td>1.0</td>\n",
       "      <td>0.5</td>\n",
       "    </tr>\n",
       "    <tr>\n",
       "      <th>2</th>\n",
       "      <td>3</td>\n",
       "      <td>Venusaur</td>\n",
       "      <td>Bisaflor</td>\n",
       "      <td>フシギバナ (Fushigibana)</td>\n",
       "      <td>1</td>\n",
       "      <td>Normal</td>\n",
       "      <td>Seed Pokémon</td>\n",
       "      <td>2</td>\n",
       "      <td>Grass</td>\n",
       "      <td>Poison</td>\n",
       "      <td>...</td>\n",
       "      <td>1.0</td>\n",
       "      <td>2.0</td>\n",
       "      <td>2.0</td>\n",
       "      <td>1.0</td>\n",
       "      <td>1.0</td>\n",
       "      <td>1.0</td>\n",
       "      <td>1.0</td>\n",
       "      <td>1.0</td>\n",
       "      <td>1.0</td>\n",
       "      <td>0.5</td>\n",
       "    </tr>\n",
       "    <tr>\n",
       "      <th>3</th>\n",
       "      <td>3</td>\n",
       "      <td>Mega Venusaur</td>\n",
       "      <td>Bisaflor</td>\n",
       "      <td>フシギバナ (Fushigibana)</td>\n",
       "      <td>1</td>\n",
       "      <td>Normal</td>\n",
       "      <td>Seed Pokémon</td>\n",
       "      <td>2</td>\n",
       "      <td>Grass</td>\n",
       "      <td>Poison</td>\n",
       "      <td>...</td>\n",
       "      <td>1.0</td>\n",
       "      <td>2.0</td>\n",
       "      <td>2.0</td>\n",
       "      <td>1.0</td>\n",
       "      <td>1.0</td>\n",
       "      <td>1.0</td>\n",
       "      <td>1.0</td>\n",
       "      <td>1.0</td>\n",
       "      <td>1.0</td>\n",
       "      <td>0.5</td>\n",
       "    </tr>\n",
       "    <tr>\n",
       "      <th>4</th>\n",
       "      <td>4</td>\n",
       "      <td>Charmander</td>\n",
       "      <td>Glumanda</td>\n",
       "      <td>ヒトカゲ (Hitokage)</td>\n",
       "      <td>1</td>\n",
       "      <td>Normal</td>\n",
       "      <td>Lizard Pokémon</td>\n",
       "      <td>1</td>\n",
       "      <td>Fire</td>\n",
       "      <td>NaN</td>\n",
       "      <td>...</td>\n",
       "      <td>2.0</td>\n",
       "      <td>1.0</td>\n",
       "      <td>1.0</td>\n",
       "      <td>0.5</td>\n",
       "      <td>2.0</td>\n",
       "      <td>1.0</td>\n",
       "      <td>1.0</td>\n",
       "      <td>1.0</td>\n",
       "      <td>0.5</td>\n",
       "      <td>0.5</td>\n",
       "    </tr>\n",
       "  </tbody>\n",
       "</table>\n",
       "<p>5 rows × 50 columns</p>\n",
       "</div>"
      ],
      "text/plain": [
       "   pokedex_number           name german_name        japanese_name  generation  \\\n",
       "0               1      Bulbasaur     Bisasam  フシギダネ (Fushigidane)           1   \n",
       "1               2        Ivysaur   Bisaknosp   フシギソウ (Fushigisou)           1   \n",
       "2               3       Venusaur    Bisaflor  フシギバナ (Fushigibana)           1   \n",
       "3               3  Mega Venusaur    Bisaflor  フシギバナ (Fushigibana)           1   \n",
       "4               4     Charmander    Glumanda      ヒトカゲ (Hitokage)           1   \n",
       "\n",
       "   status         species  type_number type_1  type_2  ...  against_ground  \\\n",
       "0  Normal    Seed Pokémon            2  Grass  Poison  ...             1.0   \n",
       "1  Normal    Seed Pokémon            2  Grass  Poison  ...             1.0   \n",
       "2  Normal    Seed Pokémon            2  Grass  Poison  ...             1.0   \n",
       "3  Normal    Seed Pokémon            2  Grass  Poison  ...             1.0   \n",
       "4  Normal  Lizard Pokémon            1   Fire     NaN  ...             2.0   \n",
       "\n",
       "   against_flying  against_psychic against_bug against_rock against_ghost  \\\n",
       "0             2.0              2.0         1.0          1.0           1.0   \n",
       "1             2.0              2.0         1.0          1.0           1.0   \n",
       "2             2.0              2.0         1.0          1.0           1.0   \n",
       "3             2.0              2.0         1.0          1.0           1.0   \n",
       "4             1.0              1.0         0.5          2.0           1.0   \n",
       "\n",
       "   against_dragon  against_dark  against_steel  against_fairy  \n",
       "0             1.0           1.0            1.0            0.5  \n",
       "1             1.0           1.0            1.0            0.5  \n",
       "2             1.0           1.0            1.0            0.5  \n",
       "3             1.0           1.0            1.0            0.5  \n",
       "4             1.0           1.0            0.5            0.5  \n",
       "\n",
       "[5 rows x 50 columns]"
      ]
     },
     "execution_count": 122,
     "metadata": {},
     "output_type": "execute_result"
    }
   ],
   "source": [
    "df = pd.read_csv(\"https://raw.githubusercontent.com/Dst017/Tutorial/main/pokedex_fixed.csv\")\n",
    "df.head()"
   ]
  },
  {
   "cell_type": "markdown",
   "id": "amino-politics",
   "metadata": {},
   "source": [
    "## The Goal\n",
    "Every Pokémon has a main type and possibly a secondary type. Types play a large part in setting a theme for each Pokémon and often determine what kinds of moves and abilities a Pokémon can posses. Types are generally but not necessarily elemental in nature. Some example types are grass, water, steel, dragon, and fairy. The goal is to predict a Pokémon’s main type."
   ]
  },
  {
   "cell_type": "markdown",
   "id": "detailed-amber",
   "metadata": {},
   "source": [
    "## Things to Know\n",
    "There are a number of points in this tutorial where randomness is introduced, specifically in the shuffling of the dataset and model building. As such, running cells multiple times will produce different results each time. However, don't worry! The variation in end results shouldn't differ too much.\n",
    "\n",
    "In addition, code in the Hyperparameter Tuning section may take some time to run. This is because many different models are being trained in succession. Look at the output from the print statements to check on the progress of the training."
   ]
  },
  {
   "cell_type": "markdown",
   "id": "exotic-paste",
   "metadata": {},
   "source": [
    "# Data Cleaning\n",
    "## Removing Bad Rows\n",
    "There are two Pokémon forms in the dataset that are missing some information due to there being no actual known values for certain variables. These two Pokémon are Eternatus Eternamax and Darmanitan Galarian Zen Mode. Let's remove them from the dataframe."
   ]
  },
  {
   "cell_type": "code",
   "execution_count": 123,
   "id": "attended-cologne",
   "metadata": {},
   "outputs": [],
   "source": [
    "bad_mon1 = np.where(df[\"name\"] == \"Darmanitan Galarian Zen Mode\")[0][0]\n",
    "bad_mon2 = np.where(df[\"name\"] == \"Eternatus Eternamax\")[0][0]\n",
    "\n",
    "df = df.drop([bad_mon1, bad_mon2])"
   ]
  },
  {
   "cell_type": "markdown",
   "id": "functional-grove",
   "metadata": {},
   "source": [
    "## Removing Unnecessary Columns\n",
    "We have gotten a nice overview of the data, but due to the number of columns in the dataframe, we are unable to see all of the data. To help us better understand the data we are working with, let's view all of the dataframe's column names."
   ]
  },
  {
   "cell_type": "code",
   "execution_count": 124,
   "id": "substantial-albert",
   "metadata": {},
   "outputs": [
    {
     "data": {
      "text/plain": [
       "Index(['pokedex_number', 'name', 'german_name', 'japanese_name', 'generation',\n",
       "       'status', 'species', 'type_number', 'type_1', 'type_2', 'height_m',\n",
       "       'weight_kg', 'abilities_number', 'ability_1', 'ability_2',\n",
       "       'ability_hidden', 'total_points', 'hp', 'attack', 'defense',\n",
       "       'sp_attack', 'sp_defense', 'speed', 'catch_rate', 'base_friendship',\n",
       "       'base_experience', 'growth_rate', 'egg_type_number', 'egg_type_1',\n",
       "       'egg_type_2', 'percentage_male', 'egg_cycles', 'against_normal',\n",
       "       'against_fire', 'against_water', 'against_electric', 'against_grass',\n",
       "       'against_ice', 'against_fight', 'against_poison', 'against_ground',\n",
       "       'against_flying', 'against_psychic', 'against_bug', 'against_rock',\n",
       "       'against_ghost', 'against_dragon', 'against_dark', 'against_steel',\n",
       "       'against_fairy'],\n",
       "      dtype='object')"
      ]
     },
     "execution_count": 124,
     "metadata": {},
     "output_type": "execute_result"
    }
   ],
   "source": [
    "df.columns"
   ]
  },
  {
   "cell_type": "markdown",
   "id": "incomplete-liverpool",
   "metadata": {},
   "source": [
    "There are a lot of different variables here, but only some of them are even potentially useful for us. Every Pokémon has a unique name and pokedex number (ignoring special forms), so neither the name variables nor the pokedex number will be helpful. Furthermore, the variables indicating type advantage/disadvantage are merely a mapping of the type 1 (what we are trying to predict) and type 2 variables. It would be unnecessary to try and predict Pokémon types if we already knew what types they were effective against.\n",
    "\n",
    "It is also worthwhile noting that some of our categorical variables simply have too many levels (categories) to be useful especially considering that there are only 1026 instances in our dataset."
   ]
  },
  {
   "cell_type": "code",
   "execution_count": 125,
   "id": "macro-printing",
   "metadata": {},
   "outputs": [
    {
     "name": "stdout",
     "output_type": "stream",
     "text": [
      "641\n",
      "203\n",
      "127\n",
      "155\n"
     ]
    }
   ],
   "source": [
    "print(len(df[\"species\"].unique()))\n",
    "print(len(df[\"ability_1\"].unique()))\n",
    "print(len(df[\"ability_2\"].unique()))\n",
    "print(len(df[\"ability_hidden\"].unique()))"
   ]
  },
  {
   "cell_type": "markdown",
   "id": "separated-somalia",
   "metadata": {},
   "source": [
    "A possible way to deal with this issue is to group some of the levels together so that there are fewer overall categories, but for simplicity, we will drop these variables.\n",
    "\n",
    "We now subset the dataframe so that it only includes relevant columns. Note that the name column has been left in for now as a way to identify data points."
   ]
  },
  {
   "cell_type": "code",
   "execution_count": 126,
   "id": "infrared-lightweight",
   "metadata": {},
   "outputs": [],
   "source": [
    "start_index1 = np.where(df.columns == \"type_number\")[0][0]\n",
    "end_index1 = np.where(df.columns == \"abilities_number\")[0][0]\n",
    "\n",
    "start_index2 = np.where(df.columns == \"total_points\")[0][0]\n",
    "end_index2 = np.where(df.columns == \"egg_cycles\")[0][0]\n",
    "\n",
    "# column indices 1, 4, and 5 correspond to the name, generation, and status variables respectively\n",
    "col_indices = [1, 4, 5] + list(range(start_index1, end_index1 + 1)) + list(range(start_index2, end_index2 + 1))\n",
    "df = df.iloc[:, col_indices]"
   ]
  },
  {
   "cell_type": "markdown",
   "id": "amazing-aircraft",
   "metadata": {},
   "source": [
    "## Dealing with Missing Values\n",
    "Missing values are troublesome in that they can lead you toward incorrect conclusions. Furthermore, many machine learning algorithms are unable to elegantly deal with missing values. Let's check to see which of our variables contain missing values."
   ]
  },
  {
   "cell_type": "code",
   "execution_count": 127,
   "id": "alike-decimal",
   "metadata": {},
   "outputs": [
    {
     "name": "stdout",
     "output_type": "stream",
     "text": [
      "type_2\n",
      "catch_rate\n",
      "egg_type_1\n",
      "egg_type_2\n",
      "percentage_male\n"
     ]
    }
   ],
   "source": [
    "for col in df.columns:\n",
    "    if (df[col].isnull().values.any()): print(col)"
   ]
  },
  {
   "cell_type": "markdown",
   "id": "damaged-julian",
   "metadata": {},
   "source": [
    "It makes sense that these variables contain missing values. Some Pokémon only have one type. Others cannot actually be caught in the game. As for the egg types, many Pokémon cannot breed and thus do not have egg forms. Finally, not all Pokémon have genders. Let's replace all the NaN's for the categorical variables to \"None\" and the NaN's for catch rate to be -1000, an extremely low value to indicate the inability to catch."
   ]
  },
  {
   "cell_type": "code",
   "execution_count": 128,
   "id": "wired-reservoir",
   "metadata": {},
   "outputs": [],
   "source": [
    "# for categorical\n",
    "for col in [\"type_2\", \"egg_type_1\", \"egg_type_2\"]:\n",
    "    df[col] = df[col].fillna(\"None\")\n",
    "    \n",
    "# for catch rate\n",
    "df[\"catch_rate\"] = df[\"catch_rate\"].fillna(-1000)"
   ]
  },
  {
   "cell_type": "markdown",
   "id": "casual-wisdom",
   "metadata": {},
   "source": [
    "Note that we have not dealt with the missing values for the percentage male variable. We will get back to this later.\n",
    "\n",
    "# Feature Engineering\n",
    "## Pokémon Growth Rate\n",
    "An indicator of a Pokémon's strength is its level, and Pokémon require experience to level up. The growth rate of a Pokémon is a summary of its level to cumulative experience curve. There are six different growth rates a Pokémon can have: fluctuating, slow, medium slow, medium fast, fast, and erratic. Growth rate is currently being treated as an unordered categorical variable, but there is actually somewhat of an ordering in terms of required experience to different levels.\n",
    "\n",
    "A seemingly simple way to capture this ordering would be to convert the levels of growth rate to numeric such that fluctuating = 0, slow = 1, medium slow = 2, medium fast = 3, fast = 4, and erratic = 5. After all, this is the correct order of growth rates in terms of getting to level 100 (the max level for Pokémon). However, the order of growth rates in terms of getting to level 100 does not necessarily hold across all levels. For example, until level 23, fluctuating—the slowest growth rate for getting to level 100—actually requires the least total amount of experience (except at level 11 being beaten out slightly by medium slow). As a matter of fact, fluctuating does not even become the slowest growth rate until it is finally surpassed by slow at level 62.\n",
    "\n",
    "To better capture the somewhat inconsistent ordering or the growth rates, let's create two more variables: the cummulative required experience to get to level 50 and to level 100. Levels 50 and 100 were chosen as they are generally regarded as the most important levels in a Pokémon's growth. Furthermore, cummulative required experience is a better choice than simply using 0 - 5 integer scale as it captures the relative difference between levels.\n",
    "\n",
    "Let's create a function to handle the mappings of growth rate experience and apply the said function to create new columns for the two levels."
   ]
  },
  {
   "cell_type": "code",
   "execution_count": 129,
   "id": "moderate-toddler",
   "metadata": {},
   "outputs": [],
   "source": [
    "def GrowthToExp(growth_rate, level):\n",
    "    lvl50 = {\"Fluctuating\":142500, \"Slow\":156250, \"Medium Slow\":117360, \n",
    "             \"Medium Fast\":125000, \"Fast\":100000, \"Erratic\":125000}\n",
    "    lvl100 = {\"Fluctuating\":1640000, \"Slow\":1250000, \"Medium Slow\":1059860, \n",
    "             \"Medium Fast\":1000000, \"Fast\":800000, \"Erratic\":600000}\n",
    "    if (level == 50): return lvl50[growth_rate]\n",
    "    return lvl100[growth_rate]\n",
    "\n",
    "df[\"exp_50\"] = df[\"growth_rate\"].map(lambda x: GrowthToExp(x, 50))\n",
    "df[\"exp_100\"] = df[\"growth_rate\"].map(lambda x: GrowthToExp(x, 100))"
   ]
  },
  {
   "cell_type": "markdown",
   "id": "awful-breath",
   "metadata": {},
   "source": [
    "We can see that the mappings and new column creations were successful based on an arbitrary group of Pokémon known to have different growth rates."
   ]
  },
  {
   "cell_type": "code",
   "execution_count": 130,
   "id": "regulated-tiffany",
   "metadata": {},
   "outputs": [
    {
     "data": {
      "text/html": [
       "<div>\n",
       "<style scoped>\n",
       "    .dataframe tbody tr th:only-of-type {\n",
       "        vertical-align: middle;\n",
       "    }\n",
       "\n",
       "    .dataframe tbody tr th {\n",
       "        vertical-align: top;\n",
       "    }\n",
       "\n",
       "    .dataframe thead th {\n",
       "        text-align: right;\n",
       "    }\n",
       "</style>\n",
       "<table border=\"1\" class=\"dataframe\">\n",
       "  <thead>\n",
       "    <tr style=\"text-align: right;\">\n",
       "      <th></th>\n",
       "      <th>name</th>\n",
       "      <th>growth_rate</th>\n",
       "      <th>exp_50</th>\n",
       "      <th>exp_100</th>\n",
       "    </tr>\n",
       "  </thead>\n",
       "  <tbody>\n",
       "    <tr>\n",
       "      <th>0</th>\n",
       "      <td>Bulbasaur</td>\n",
       "      <td>Medium Slow</td>\n",
       "      <td>117360</td>\n",
       "      <td>1059860</td>\n",
       "    </tr>\n",
       "    <tr>\n",
       "      <th>15</th>\n",
       "      <td>Butterfree</td>\n",
       "      <td>Medium Fast</td>\n",
       "      <td>125000</td>\n",
       "      <td>1000000</td>\n",
       "    </tr>\n",
       "    <tr>\n",
       "      <th>76</th>\n",
       "      <td>Growlithe</td>\n",
       "      <td>Slow</td>\n",
       "      <td>156250</td>\n",
       "      <td>1250000</td>\n",
       "    </tr>\n",
       "    <tr>\n",
       "      <th>338</th>\n",
       "      <td>Shroomish</td>\n",
       "      <td>Fluctuating</td>\n",
       "      <td>142500</td>\n",
       "      <td>1640000</td>\n",
       "    </tr>\n",
       "    <tr>\n",
       "      <th>345</th>\n",
       "      <td>Shedinja</td>\n",
       "      <td>Erratic</td>\n",
       "      <td>125000</td>\n",
       "      <td>600000</td>\n",
       "    </tr>\n",
       "    <tr>\n",
       "      <th>398</th>\n",
       "      <td>Lunatone</td>\n",
       "      <td>Fast</td>\n",
       "      <td>100000</td>\n",
       "      <td>800000</td>\n",
       "    </tr>\n",
       "  </tbody>\n",
       "</table>\n",
       "</div>"
      ],
      "text/plain": [
       "           name  growth_rate  exp_50  exp_100\n",
       "0     Bulbasaur  Medium Slow  117360  1059860\n",
       "15   Butterfree  Medium Fast  125000  1000000\n",
       "76    Growlithe         Slow  156250  1250000\n",
       "338   Shroomish  Fluctuating  142500  1640000\n",
       "345    Shedinja      Erratic  125000   600000\n",
       "398    Lunatone         Fast  100000   800000"
      ]
     },
     "execution_count": 130,
     "metadata": {},
     "output_type": "execute_result"
    }
   ],
   "source": [
    "# names of six Pokémon with different growth rates\n",
    "diff_growths = [\"Bulbasaur\", \"Butterfree\", \"Shroomish\", \"Growlithe\", \"Shedinja\", \"Lunatone\"]\n",
    "\n",
    "df.loc[df[\"name\"].isin(diff_growths), [\"name\", \"growth_rate\", \"exp_50\", \"exp_100\"]]"
   ]
  },
  {
   "cell_type": "markdown",
   "id": "corporate-bones",
   "metadata": {},
   "source": [
    "## Pokémon Gender\n",
    "Pokémon can either be male or female, but a handfull of Pokémon are also genderless. This leads to a bit of an issue regarding the percentage male variable in our dataset. Percentage male indicates what percent of all of a certain kind of Pokémon is male, but what should this value be for Pokémon without a gender. It may make sense to assign a value of 0 to this for genderless Pokémon; after all, if a Pokémon has no gender then none of its kind is male. However, this value of 0 overlaps with all the Pokémon that do have a gender but are only ever female.\n",
    "\n",
    "To combat this, let's define a new colum with a binary variable indicating whether or not a Pokémon is genderless."
   ]
  },
  {
   "cell_type": "code",
   "execution_count": 131,
   "id": "sorted-attribute",
   "metadata": {},
   "outputs": [],
   "source": [
    "df[\"has_gender\"] = df[\"percentage_male\"].map(lambda x: False if pd.isna(x) else True)"
   ]
  },
  {
   "cell_type": "markdown",
   "id": "blond-cholesterol",
   "metadata": {},
   "source": [
    "We can once again use an arbitrary group of Pokémon which are known to have different gender percentages to illustrate the success of the above change."
   ]
  },
  {
   "cell_type": "code",
   "execution_count": 132,
   "id": "chinese-difficulty",
   "metadata": {},
   "outputs": [
    {
     "data": {
      "text/html": [
       "<div>\n",
       "<style scoped>\n",
       "    .dataframe tbody tr th:only-of-type {\n",
       "        vertical-align: middle;\n",
       "    }\n",
       "\n",
       "    .dataframe tbody tr th {\n",
       "        vertical-align: top;\n",
       "    }\n",
       "\n",
       "    .dataframe thead th {\n",
       "        text-align: right;\n",
       "    }\n",
       "</style>\n",
       "<table border=\"1\" class=\"dataframe\">\n",
       "  <thead>\n",
       "    <tr style=\"text-align: right;\">\n",
       "      <th></th>\n",
       "      <th>name</th>\n",
       "      <th>percentage_male</th>\n",
       "      <th>has_gender</th>\n",
       "    </tr>\n",
       "  </thead>\n",
       "  <tbody>\n",
       "    <tr>\n",
       "      <th>0</th>\n",
       "      <td>Bulbasaur</td>\n",
       "      <td>87.5</td>\n",
       "      <td>True</td>\n",
       "    </tr>\n",
       "    <tr>\n",
       "      <th>13</th>\n",
       "      <td>Caterpie</td>\n",
       "      <td>50.0</td>\n",
       "      <td>True</td>\n",
       "    </tr>\n",
       "    <tr>\n",
       "      <th>42</th>\n",
       "      <td>Nidoqueen</td>\n",
       "      <td>0.0</td>\n",
       "      <td>True</td>\n",
       "    </tr>\n",
       "    <tr>\n",
       "      <th>45</th>\n",
       "      <td>Nidoking</td>\n",
       "      <td>100.0</td>\n",
       "      <td>True</td>\n",
       "    </tr>\n",
       "    <tr>\n",
       "      <th>191</th>\n",
       "      <td>Mew</td>\n",
       "      <td>NaN</td>\n",
       "      <td>False</td>\n",
       "    </tr>\n",
       "  </tbody>\n",
       "</table>\n",
       "</div>"
      ],
      "text/plain": [
       "          name  percentage_male  has_gender\n",
       "0    Bulbasaur             87.5        True\n",
       "13    Caterpie             50.0        True\n",
       "42   Nidoqueen              0.0        True\n",
       "45    Nidoking            100.0        True\n",
       "191        Mew              NaN       False"
      ]
     },
     "execution_count": 132,
     "metadata": {},
     "output_type": "execute_result"
    }
   ],
   "source": [
    "# names of Pokémon with different gender percentages\n",
    "diff_genders = [\"Nidoking\", \"Nidoqueen\", \"Bulbasaur\", \"Caterpie\", \"Mew\"]\n",
    "\n",
    "df.loc[df[\"name\"].isin(diff_genders), [\"name\", \"percentage_male\", \"has_gender\"]]"
   ]
  },
  {
   "cell_type": "markdown",
   "id": "fabulous-typing",
   "metadata": {},
   "source": [
    "Finally, we edit the existing percentage male column so that NaN's no longer exist and take out the name column as it is no longer required for viewing purposes."
   ]
  },
  {
   "cell_type": "code",
   "execution_count": 133,
   "id": "constitutional-seminar",
   "metadata": {},
   "outputs": [],
   "source": [
    "df[\"percentage_male\"] = df[\"percentage_male\"].fillna(0)\n",
    "df = df.drop(\"name\", axis = 1)"
   ]
  },
  {
   "cell_type": "markdown",
   "id": "moved-documentary",
   "metadata": {},
   "source": [
    "## One-Hot Encoding\n",
    "Many of Scikit-learn's machine learning algorithms (particularly the ones in this tutorial) are unable to take in categorical data that are represented as strings. The only way around this is to change all categories' values from string to numeric.\n",
    "\n",
    "A simple form of this is known as label encoding. Assign a different integer for each level within a variable. For variables that are intrinsically ordered this works well, but for those that are unordered, assuming a natural ordering can lead to poor performance or unexpected results. This is where one-hot encoding comes in.\n",
    "\n",
    "One-hot encoding splits a single variable into n different binary variables with n being the number of levels of the original variable. Each of these n new variables corresponds to a specific level of the original variable and is 1 when an instance is in that category and 0 otherwise.\n",
    "\n",
    "Here is a toy dataframe. Assume that all possible levels for each categorical variable are in the dataframe."
   ]
  },
  {
   "cell_type": "code",
   "execution_count": 134,
   "id": "plain-jimmy",
   "metadata": {},
   "outputs": [
    {
     "data": {
      "text/html": [
       "<div>\n",
       "<style scoped>\n",
       "    .dataframe tbody tr th:only-of-type {\n",
       "        vertical-align: middle;\n",
       "    }\n",
       "\n",
       "    .dataframe tbody tr th {\n",
       "        vertical-align: top;\n",
       "    }\n",
       "\n",
       "    .dataframe thead th {\n",
       "        text-align: right;\n",
       "    }\n",
       "</style>\n",
       "<table border=\"1\" class=\"dataframe\">\n",
       "  <thead>\n",
       "    <tr style=\"text-align: right;\">\n",
       "      <th></th>\n",
       "      <th>name</th>\n",
       "      <th>type_1</th>\n",
       "      <th>growth_rate</th>\n",
       "      <th>height_m</th>\n",
       "    </tr>\n",
       "  </thead>\n",
       "  <tbody>\n",
       "    <tr>\n",
       "      <th>0</th>\n",
       "      <td>Bulbasaur</td>\n",
       "      <td>Grass</td>\n",
       "      <td>Medium Slow</td>\n",
       "      <td>0.7</td>\n",
       "    </tr>\n",
       "    <tr>\n",
       "      <th>1</th>\n",
       "      <td>Charmander</td>\n",
       "      <td>Fire</td>\n",
       "      <td>Medium Slow</td>\n",
       "      <td>0.6</td>\n",
       "    </tr>\n",
       "    <tr>\n",
       "      <th>2</th>\n",
       "      <td>Mewtwo</td>\n",
       "      <td>Psychic</td>\n",
       "      <td>Slow</td>\n",
       "      <td>2.0</td>\n",
       "    </tr>\n",
       "  </tbody>\n",
       "</table>\n",
       "</div>"
      ],
      "text/plain": [
       "         name   type_1  growth_rate  height_m\n",
       "0   Bulbasaur    Grass  Medium Slow       0.7\n",
       "1  Charmander     Fire  Medium Slow       0.6\n",
       "2      Mewtwo  Psychic         Slow       2.0"
      ]
     },
     "execution_count": 134,
     "metadata": {},
     "output_type": "execute_result"
    }
   ],
   "source": [
    "toy_df = pd.DataFrame({\"name\":[\"Bulbasaur\", \"Charmander\", \"Mewtwo\"],\n",
    "                       \"type_1\":[\"Grass\", \"Fire\", \"Psychic\"],\n",
    "                       \"growth_rate\":[\"Medium Slow\", \"Medium Slow\", \"Slow\"],\n",
    "                       \"height_m\":[.7, .6, 2]})\n",
    "\n",
    "toy_df"
   ]
  },
  {
   "cell_type": "markdown",
   "id": "exempt-omega",
   "metadata": {},
   "source": [
    "Here is the toy dataframe with one-hot encoding applied to type 1 and growth rate."
   ]
  },
  {
   "cell_type": "code",
   "execution_count": 135,
   "id": "promising-occurrence",
   "metadata": {},
   "outputs": [
    {
     "data": {
      "text/html": [
       "<div>\n",
       "<style scoped>\n",
       "    .dataframe tbody tr th:only-of-type {\n",
       "        vertical-align: middle;\n",
       "    }\n",
       "\n",
       "    .dataframe tbody tr th {\n",
       "        vertical-align: top;\n",
       "    }\n",
       "\n",
       "    .dataframe thead th {\n",
       "        text-align: right;\n",
       "    }\n",
       "</style>\n",
       "<table border=\"1\" class=\"dataframe\">\n",
       "  <thead>\n",
       "    <tr style=\"text-align: right;\">\n",
       "      <th></th>\n",
       "      <th>name</th>\n",
       "      <th>type_1_Grass</th>\n",
       "      <th>type_1_Fire</th>\n",
       "      <th>type_1_Psychic</th>\n",
       "      <th>growth_rate_Medium_Slow</th>\n",
       "      <th>growth_rate_Slow</th>\n",
       "      <th>height_m</th>\n",
       "    </tr>\n",
       "  </thead>\n",
       "  <tbody>\n",
       "    <tr>\n",
       "      <th>0</th>\n",
       "      <td>Bulbasaur</td>\n",
       "      <td>1</td>\n",
       "      <td>0</td>\n",
       "      <td>0</td>\n",
       "      <td>1</td>\n",
       "      <td>0</td>\n",
       "      <td>0.7</td>\n",
       "    </tr>\n",
       "    <tr>\n",
       "      <th>1</th>\n",
       "      <td>Charmander</td>\n",
       "      <td>0</td>\n",
       "      <td>1</td>\n",
       "      <td>0</td>\n",
       "      <td>1</td>\n",
       "      <td>0</td>\n",
       "      <td>0.6</td>\n",
       "    </tr>\n",
       "    <tr>\n",
       "      <th>2</th>\n",
       "      <td>Mewtwo</td>\n",
       "      <td>0</td>\n",
       "      <td>0</td>\n",
       "      <td>1</td>\n",
       "      <td>0</td>\n",
       "      <td>1</td>\n",
       "      <td>2.0</td>\n",
       "    </tr>\n",
       "  </tbody>\n",
       "</table>\n",
       "</div>"
      ],
      "text/plain": [
       "         name  type_1_Grass  type_1_Fire  type_1_Psychic  \\\n",
       "0   Bulbasaur             1            0               0   \n",
       "1  Charmander             0            1               0   \n",
       "2      Mewtwo             0            0               1   \n",
       "\n",
       "   growth_rate_Medium_Slow  growth_rate_Slow  height_m  \n",
       "0                        1                 0       0.7  \n",
       "1                        1                 0       0.6  \n",
       "2                        0                 1       2.0  "
      ]
     },
     "execution_count": 135,
     "metadata": {},
     "output_type": "execute_result"
    }
   ],
   "source": [
    "enc_toy_df = pd.DataFrame({\"name\":[\"Bulbasaur\", \"Charmander\", \"Mewtwo\"],\n",
    "                           \"type_1_Grass\":[1, 0, 0],\n",
    "                           \"type_1_Fire\":[0, 1, 0],\n",
    "                           \"type_1_Psychic\":[0, 0, 1],\n",
    "                           \"growth_rate_Medium_Slow\":[1, 1, 0],\n",
    "                           \"growth_rate_Slow\":[0, 0, 1],\n",
    "                           \"height_m\":[.7, .6, 2]})\n",
    "enc_toy_df"
   ]
  },
  {
   "cell_type": "markdown",
   "id": "aggressive-sperm",
   "metadata": {},
   "source": [
    "The two categorical variables type 1 and growth rate turned into $3 \\text{ (levels for type 1) } + 2 \\text{ (levels for growth rate) } = 5$ variables. As such, the downside of using one-hot encoding is that it greatly increases complexity and run time.\n",
    "\n",
    "Let's now apply one-hot encoding to our main dataframe. Note that we don't need to do this for our response variable (type 1)."
   ]
  },
  {
   "cell_type": "code",
   "execution_count": 136,
   "id": "legislative-endorsement",
   "metadata": {},
   "outputs": [
    {
     "name": "stdout",
     "output_type": "stream",
     "text": [
      "(1026, 27)\n",
      "(1026, 79)\n"
     ]
    }
   ],
   "source": [
    "enc_feats_df = pd.get_dummies(df.loc[:, df.columns != \"type_1\"])\n",
    "enc_df = pd.concat([df[\"type_1\"], enc_feats_df], axis = 1)\n",
    "\n",
    "print(df.shape)\n",
    "print(enc_df.shape)"
   ]
  },
  {
   "cell_type": "markdown",
   "id": "negative-canadian",
   "metadata": {},
   "source": [
    "We see that our dataframe has almost tripled in size from a $1026 \\times 27$ to a $1026 \\times 79$."
   ]
  },
  {
   "cell_type": "markdown",
   "id": "desperate-latvia",
   "metadata": {},
   "source": [
    "# Model Creation\n",
    "## Data Preparation\n",
    "\n",
    "It is almost time to build our models, but we must first split our data into a training and test set. To eliminate bias due to the ordering of our dataset, we also shuffle our dataset."
   ]
  },
  {
   "cell_type": "code",
   "execution_count": 137,
   "id": "protecting-document",
   "metadata": {},
   "outputs": [],
   "source": [
    "rand_df = sklearn.utils.shuffle(enc_df)\n",
    "\n",
    "# 80/20 train/test split\n",
    "break_index = rand_df.shape[0]//5\n",
    "test_df = rand_df.iloc[:break_index + 1, :]\n",
    "train_df = rand_df.iloc[break_index + 1:, :]"
   ]
  },
  {
   "cell_type": "markdown",
   "id": "standing-lodging",
   "metadata": {},
   "source": [
    "Scikit-learn machine learning classifiers take in numpy arrays rather than dataframes. We also separate our response column from our feature columns to ensure that we are not training on what we are attempting to predict."
   ]
  },
  {
   "cell_type": "code",
   "execution_count": 138,
   "id": "prepared-torture",
   "metadata": {},
   "outputs": [],
   "source": [
    "train_X = train_df.loc[:, train_df.columns != \"type_1\"].to_numpy()\n",
    "train_y = train_df[\"type_1\"].to_numpy()\n",
    "\n",
    "test_X = test_df.loc[:, test_df.columns != \"type_1\"].to_numpy()\n",
    "test_y = test_df[\"type_1\"].to_numpy()"
   ]
  },
  {
   "cell_type": "markdown",
   "id": "stylish-grace",
   "metadata": {},
   "source": [
    "## Decision Tree\n",
    "Decision trees are commonly used for predictive modelling and classification. As the name suggests, they work like trees starting from a root and branching off to different nodes based on variables that best split the data. In scikit-learn's decision tree classifier, the default splitting criteron is Gini impurity.\n",
    "\n",
    "Gini impurity measures how often a randomly chosen element would be labeled incorrectly should its labeling be picked based on the its sample distribution. For a set that has $J$ classes and probability of chossing class $i$ being $p_i$, it can be calulated as:\n",
    "$$I_G(p) = 1 - \\sum_{i = 1}^J (p_i)^2$$\n",
    "Nodes with minimum Gini impurity are chosen."
   ]
  },
  {
   "cell_type": "code",
   "execution_count": 139,
   "id": "pressed-parks",
   "metadata": {},
   "outputs": [
    {
     "name": "stdout",
     "output_type": "stream",
     "text": [
      "test accuracy: 0.533981\n"
     ]
    }
   ],
   "source": [
    "from sklearn import tree\n",
    "\n",
    "tree_model = tree.DecisionTreeClassifier()\n",
    "preds = tree_model.fit(train_X, train_y).predict(test_X)\n",
    "\n",
    "tree_acc = np.mean(preds == test_y)\n",
    "\n",
    "print(\"test accuracy: %f\" %tree_acc)"
   ]
  },
  {
   "cell_type": "markdown",
   "id": "weighted-lawyer",
   "metadata": {},
   "source": [
    "After training the model and comparing its predictions on the test set to the labels of the test set, we see an accuracy of around .5. Perhpas we can improve this metric by choosing a different classification method."
   ]
  },
  {
   "cell_type": "markdown",
   "id": "surgical-assembly",
   "metadata": {},
   "source": [
    "## Random Forests\n",
    "Random forests is a step up from the basic decision tree algorithm in that it is a tree ensemble learning method. It creates a group or \"forest\" of decision trees and outputs the mode of the responses from the group of decision trees. The \"random\" part of random forests comes about in that each tree only uses a randon subset of the data's features.\n",
    "\n",
    "Like the decision tree classifier, scikit-learn's random forest classifier uses Gini impurity as the default splitting criterion."
   ]
  },
  {
   "cell_type": "code",
   "execution_count": 140,
   "id": "independent-guinea",
   "metadata": {},
   "outputs": [
    {
     "name": "stdout",
     "output_type": "stream",
     "text": [
      "test accuracy: 0.626214\n"
     ]
    }
   ],
   "source": [
    "from sklearn.ensemble import RandomForestClassifier\n",
    "\n",
    "forest_model = RandomForestClassifier(random_state = 17)\n",
    "preds = forest_model.fit(train_X, train_y).predict(test_X)\n",
    "\n",
    "forest_acc1 = np.mean(preds == test_y)\n",
    "\n",
    "print(\"test accuracy: %f\" %forest_acc1)"
   ]
  },
  {
   "cell_type": "markdown",
   "id": "operating-assignment",
   "metadata": {},
   "source": [
    "## Hyperparameter Tuning\n",
    "By using random forests, we were able to improve accuracy from around .5 to around .6. This is a significant improvement in performance, but we may be able to squeeze a bit more juice out by working with our random forests classifier's parameters.\n",
    "\n",
    "So far, we have used the default parameters provided by scikit-lern. In order to optimize our performance, we can adjust some of our hyperparametrs and see if this results in an improvement in accuracy. For simplicity, let's choose two hyperparameters to work on: n_estimators and max_features. The n_estimators parameter determines how many trees are in the forest, and max_features decides how many features to consider when looking for the best split.\n",
    "\n",
    "To optimize our model, we can try combinations of different values for n_estimators and max_features. The default value of n_estimators is 100, and the default value for max_features is \"auto\" (square root of the number of features). For n_estimators let's create a range from 50 - 500 with breaks every 50 steps. As for max_features, let's choose from \"auto,\" \"log2,\" and None (in None max_features = number of features)."
   ]
  },
  {
   "cell_type": "code",
   "execution_count": 141,
   "id": "brilliant-check",
   "metadata": {},
   "outputs": [],
   "source": [
    "n_ests = list(range(50, 550, 50))\n",
    "max_feats = [\"auto\", \"log2\", None]\n",
    "\n",
    "# tuples of parameters for convenience\n",
    "pairs = [(n_est, max_feat) for n_est in n_ests for max_feat in max_feats]"
   ]
  },
  {
   "cell_type": "markdown",
   "id": "authentic-colony",
   "metadata": {},
   "source": [
    "We now train random forests classifiers so that every combination of n_estimators and max_features from our range is covered. We also use k-fold cross validation to help measure the proficiency of our models. In summary, k-fold cv works by partitioning our training data into k different groups (folds). The model is then trained using the data from k - 1 of the folds as training data and the other fold as a validation set to assess performance. This is done k times so that every fold is used as the validation set once. A summary statistic of our model's performance is now simply the average of our k different performance metrics."
   ]
  },
  {
   "cell_type": "code",
   "execution_count": 142,
   "id": "further-circular",
   "metadata": {},
   "outputs": [
    {
     "name": "stdout",
     "output_type": "stream",
     "text": [
      "Training with n_estimators = 50, max_features = auto\n",
      "Training with n_estimators = 50, max_features = log2\n",
      "Training with n_estimators = 50, max_features = None\n",
      "Training with n_estimators = 100, max_features = auto\n",
      "Training with n_estimators = 100, max_features = log2\n",
      "Training with n_estimators = 100, max_features = None\n",
      "Training with n_estimators = 150, max_features = auto\n",
      "Training with n_estimators = 150, max_features = log2\n",
      "Training with n_estimators = 150, max_features = None\n",
      "Training with n_estimators = 200, max_features = auto\n",
      "Training with n_estimators = 200, max_features = log2\n",
      "Training with n_estimators = 200, max_features = None\n",
      "Training with n_estimators = 250, max_features = auto\n",
      "Training with n_estimators = 250, max_features = log2\n",
      "Training with n_estimators = 250, max_features = None\n",
      "Training with n_estimators = 300, max_features = auto\n",
      "Training with n_estimators = 300, max_features = log2\n",
      "Training with n_estimators = 300, max_features = None\n",
      "Training with n_estimators = 350, max_features = auto\n",
      "Training with n_estimators = 350, max_features = log2\n",
      "Training with n_estimators = 350, max_features = None\n",
      "Training with n_estimators = 400, max_features = auto\n",
      "Training with n_estimators = 400, max_features = log2\n",
      "Training with n_estimators = 400, max_features = None\n",
      "Training with n_estimators = 450, max_features = auto\n",
      "Training with n_estimators = 450, max_features = log2\n",
      "Training with n_estimators = 450, max_features = None\n",
      "Training with n_estimators = 500, max_features = auto\n",
      "Training with n_estimators = 500, max_features = log2\n",
      "Training with n_estimators = 500, max_features = None\n"
     ]
    }
   ],
   "source": [
    "from sklearn.model_selection import KFold\n",
    "\n",
    "# we arbitraily to split our data into 5 folds\n",
    "folds = KFold(n_splits = 5)\n",
    "\n",
    "# mean accuracies for each combination of hyperparameters\n",
    "mean_accs = []\n",
    "for pair in pairs:\n",
    "    print(\"Training with n_estimators = %d, max_features = %s\" %pair)\n",
    "    model = RandomForestClassifier(n_estimators = pair[0], max_features = pair[1], random_state = 17)\n",
    "    \n",
    "    # k accuracies each based on evaluation over a fold\n",
    "    accs = []\n",
    "    # folds.split returns a generator of tuples (list1, list2)\n",
    "    # where list1 contains all indices in k - 1 folds and list2 the others\n",
    "    for train_indices, val_indices in folds.split(train_df):\n",
    "        train_feats = train_X[train_indices, :]\n",
    "        train_labels = train_y[train_indices]\n",
    "        \n",
    "        val_feats = train_X[val_indices, :]\n",
    "        val_labels = train_y[val_indices]\n",
    "        \n",
    "        preds = model.fit(train_feats, train_labels).predict(val_feats)\n",
    "        \n",
    "        acc = np.mean(preds == val_labels)\n",
    "        \n",
    "        accs.append(acc)\n",
    "        \n",
    "    mean_accs.append(np.mean(accs))"
   ]
  },
  {
   "cell_type": "markdown",
   "id": "medium-mystery",
   "metadata": {},
   "source": [
    "Note that we are still doing all of our training on our original training set and merely evaluating performance on a subset of our original training set. The test set is not used to make decisions on training our model."
   ]
  },
  {
   "cell_type": "markdown",
   "id": "informed-settlement",
   "metadata": {},
   "source": [
    "### Visualizing Hyperparameter Effectiveness\n",
    "\n",
    "Let's now visually explore how our using different hyperparameters affect accuracy. We first put all of our mean accuracies into a dataframe with their associated hyperparameters as columns as well. This organization allows us to easily plot our results."
   ]
  },
  {
   "cell_type": "code",
   "execution_count": 143,
   "id": "partial-board",
   "metadata": {},
   "outputs": [
    {
     "data": {
      "text/html": [
       "<div>\n",
       "<style scoped>\n",
       "    .dataframe tbody tr th:only-of-type {\n",
       "        vertical-align: middle;\n",
       "    }\n",
       "\n",
       "    .dataframe tbody tr th {\n",
       "        vertical-align: top;\n",
       "    }\n",
       "\n",
       "    .dataframe thead th {\n",
       "        text-align: right;\n",
       "    }\n",
       "</style>\n",
       "<table border=\"1\" class=\"dataframe\">\n",
       "  <thead>\n",
       "    <tr style=\"text-align: right;\">\n",
       "      <th></th>\n",
       "      <th>mean_accuracy</th>\n",
       "      <th>n_ests</th>\n",
       "      <th>max_feature</th>\n",
       "    </tr>\n",
       "  </thead>\n",
       "  <tbody>\n",
       "    <tr>\n",
       "      <th>0</th>\n",
       "      <td>0.587805</td>\n",
       "      <td>50</td>\n",
       "      <td>auto</td>\n",
       "    </tr>\n",
       "    <tr>\n",
       "      <th>1</th>\n",
       "      <td>0.598780</td>\n",
       "      <td>50</td>\n",
       "      <td>log2</td>\n",
       "    </tr>\n",
       "    <tr>\n",
       "      <th>2</th>\n",
       "      <td>0.578049</td>\n",
       "      <td>50</td>\n",
       "      <td>None</td>\n",
       "    </tr>\n",
       "    <tr>\n",
       "      <th>3</th>\n",
       "      <td>0.604878</td>\n",
       "      <td>100</td>\n",
       "      <td>auto</td>\n",
       "    </tr>\n",
       "    <tr>\n",
       "      <th>4</th>\n",
       "      <td>0.598780</td>\n",
       "      <td>100</td>\n",
       "      <td>log2</td>\n",
       "    </tr>\n",
       "  </tbody>\n",
       "</table>\n",
       "</div>"
      ],
      "text/plain": [
       "   mean_accuracy  n_ests max_feature\n",
       "0       0.587805      50        auto\n",
       "1       0.598780      50        log2\n",
       "2       0.578049      50        None\n",
       "3       0.604878     100        auto\n",
       "4       0.598780     100        log2"
      ]
     },
     "execution_count": 143,
     "metadata": {},
     "output_type": "execute_result"
    }
   ],
   "source": [
    "acc_df = pd.DataFrame({\"mean_accuracy\":mean_accs, \n",
    "                       \"n_ests\":np.repeat(n_ests, len(max_feats)), \n",
    "                       \"max_feature\":len(n_ests)*max_feats})\n",
    "acc_df.head()"
   ]
  },
  {
   "cell_type": "markdown",
   "id": "israeli-russian",
   "metadata": {},
   "source": [
    "For plotting, we use the popular `R` package, ggplot, which happens to also now be in Python!"
   ]
  },
  {
   "cell_type": "code",
   "execution_count": 144,
   "id": "damaged-luther",
   "metadata": {
    "scrolled": true
   },
   "outputs": [
    {
     "data": {
      "image/png": "[encoded data removed]",
      "text/plain": [
       "<Figure size 640x480 with 1 Axes>"
      ]
     },
     "metadata": {},
     "output_type": "display_data"
    },
    {
     "data": {
      "text/plain": [
       "<ggplot: (8771428200777)>"
      ]
     },
     "execution_count": 144,
     "metadata": {},
     "output_type": "execute_result"
    }
   ],
   "source": [
    "(\n",
    "    ggplot(acc_df, aes(x = \"n_ests\", y = \"mean_accuracy\", color = \"max_feature\")) \n",
    "        + geom_line() + geom_point() \n",
    "        + labs(x = \"Number of Trees\", y = \"Mean Accuracy\", \n",
    "               title = \"Mean Accuracy vs. Number of Trees Used\\nBased off Max Feature Parameter\",\n",
    "               color = \"Max Feature Parameter\")\n",
    "        + theme_bw()\n",
    ")"
   ]
  },
  {
   "cell_type": "markdown",
   "id": "veterinary-muscle",
   "metadata": {},
   "source": [
    "For our final model, we will pick the pair of hyperparameters that maximize mean accuracy according to our plot."
   ]
  },
  {
   "cell_type": "code",
   "execution_count": 145,
   "id": "secret-pierre",
   "metadata": {},
   "outputs": [
    {
     "name": "stdout",
     "output_type": "stream",
     "text": [
      "best hyperparameter combination: (400, 'auto')\n"
     ]
    }
   ],
   "source": [
    "max_index = np.argmax(mean_accs)\n",
    "best_pair = pairs[max_index]\n",
    "print(\"best hyperparameter combination:\", best_pair)"
   ]
  },
  {
   "cell_type": "code",
   "execution_count": 146,
   "id": "activated-belize",
   "metadata": {},
   "outputs": [
    {
     "name": "stdout",
     "output_type": "stream",
     "text": [
      "Difference in accuracy evaluated on test set: 0.029126\n"
     ]
    }
   ],
   "source": [
    "model = RandomForestClassifier(n_estimators = best_pair[0], max_features = best_pair[1], random_state = 17)\n",
    "preds = model.fit(train_X, train_y).predict(test_X)\n",
    "\n",
    "forest_acc2 = np.mean(preds == test_y)\n",
    "print(\"Difference in accuracy evaluated on test set: %f\" %(forest_acc2 - forest_acc1))"
   ]
  },
  {
   "cell_type": "markdown",
   "id": "placed-rendering",
   "metadata": {},
   "source": [
    "## Results"
   ]
  },
  {
   "cell_type": "code",
   "execution_count": 147,
   "id": "organic-mortality",
   "metadata": {},
   "outputs": [
    {
     "name": "stdout",
     "output_type": "stream",
     "text": [
      "Decision Tree Test Accuracy: 0.533981\n",
      "Random Forests Accuracy (default parameters): 0.626214\n",
      "Random Forests Accuracy (optimized parameters): 0.655340\n"
     ]
    }
   ],
   "source": [
    "print(\"Decision Tree Test Accuracy: %f\" %tree_acc)\n",
    "print(\"Random Forests Accuracy (default parameters): %f\" %forest_acc1)\n",
    "print(\"Random Forests Accuracy (optimized parameters): %f\" %forest_acc2)"
   ]
  },
  {
   "cell_type": "markdown",
   "id": "verbal-dominican",
   "metadata": {},
   "source": [
    "You should be able to see a significant improvement from the decision tree model to the random forests models. When I last ran this notebook, I also saw an improvement of about 3\\% from the first random forests model to the second. Of course, due to the many random elements within this tutorial, results may vary. It is not guaranteed that our best choice of hyperparameters will result in a better accuracy than what our default random forest model gave, but we definitely expect them to."
   ]
  },
  {
   "cell_type": "markdown",
   "id": "wooden-apparatus",
   "metadata": {},
   "source": [
    "# Additional Resources\n",
    "* [One-hot encoding](https://machinelearningmastery.com/why-one-hot-encode-data-in-machine-learning/) - simple article on the motivation behind and how one hot encoding works\n",
    "* [Decision Trees](https://towardsdatascience.com/decision-trees-in-machine-learning-641b9c4e8052) - how decision trees work\n",
    "* [Random Forests](https://www.stat.berkeley.edu/~breiman/RandomForests/cc_home.htm#intro) - a page all about random forests made by the inventors of the algorithm itself\n",
    "* [K-fold Cross Validation](https://machinelearningmastery.com/k-fold-cross-validation/) - overview of k-fold cross validation"
   ]
  },
  {
   "cell_type": "markdown",
   "id": "fitting-gateway",
   "metadata": {},
   "source": [
    "I want to include a picture to end this tutorial, but since I'm unsure about the use of outside images..."
   ]
  },
  {
   "cell_type": "code",
   "execution_count": 148,
   "id": "friendly-spencer",
   "metadata": {
    "scrolled": true
   },
   "outputs": [
    {
     "data": {
      "image/png": "[encoded data removed]",
      "text/plain": [
       "<Figure size 640x480 with 1 Axes>"
      ]
     },
     "metadata": {},
     "output_type": "display_data"
    },
    {
     "data": {
      "text/plain": [
       "<ggplot: (8771408846568)>"
      ]
     },
     "execution_count": 148,
     "metadata": {},
     "output_type": "execute_result"
    }
   ],
   "source": [
    "'''\n",
    "Ignore the code in this cell!!!\n",
    "But please run it!\n",
    "Don't worry I hand typed the csv's that are read in here,\n",
    "so the code and data here were all made by me\n",
    "though I will admit that I ripped the coefficients for these functions\n",
    "from here https://www.desmos.com/calculator/oaer3zh6jo\n",
    "'''\n",
    "\n",
    "def line(x, tup):\n",
    "    x = x[x >= tup[3]]\n",
    "    x = x[x <= tup[4]]\n",
    "    y = (tup[2] - tup[0]*x)/tup[1]\n",
    "    \n",
    "    return list(zip(x, y))\n",
    "\n",
    "def elipse(x, tup):\n",
    "    x = x[x >= -3]\n",
    "    x = x[x <= -.3]\n",
    "    y = -(tup[0]*((tup[1]*(tup[2]*(x**2) + tup[3]*x + tup[4]))**.5) - tup[5])/tup[6]\n",
    "    y1 = (tup[0]*((tup[1]*(tup[2]*(x**2) + tup[3]*x + tup[4]))**.5) + tup[5])/tup[6]\n",
    "    \n",
    "    return list(zip(x, y)) + list(zip(x, y1))\n",
    "\n",
    "def parabola(x, tup):\n",
    "    x = x[x >= tup[3]]\n",
    "    x = x[x <= tup[4]]\n",
    "    y = tup[0]*((x + tup[1])**2) + tup[2]\n",
    "    \n",
    "    return list(zip(x, y))\n",
    "\n",
    "def hyperbola(x, tup):\n",
    "    x = x[x >= tup[4]]\n",
    "    x = x[x <= tup[5]]\n",
    "    y = (tup[3]*((x**2 + 2*tup[0]*x + tup[0]**2 - tup[1]**2)**.5) - tup[1]*tup[2])/tup[1]\n",
    "    y1 = -(tup[3]*((x**2 + 2*tup[0]*x + tup[0]**2 - tup[1]**2)**.5) + tup[1]*tup[2])/tup[1]\n",
    "    \n",
    "    return list(zip(x, y)) + list(zip(x, y1))\n",
    "\n",
    "def circle(x, tup):\n",
    "    x = x[x >= tup[4]]\n",
    "    x = x[x <= tup[5]]\n",
    "    y = tup[3]*((-x**2 - 2*tup[0]*x - tup[0]**2 + tup[1]**2)**.5 - tup[1]*tup[2])/tup[1]\n",
    "    y1 = -tup[3]*((-x**2 - 2*tup[0]*x - tup[0]**2 + tup[1]**2)**.5 + tup[1]*tup[2])/tup[1]\n",
    "    \n",
    "    return list(zip(x, y)) + list(zip(x, y1))\n",
    "\n",
    "def weird(x, tup):\n",
    "    x = x[x >= -1.1]\n",
    "    x = x[x <= .6]\n",
    "    y = (tup[0]*((tup[1]*(tup[2]*x**2 + tup[3]*x + tup[4]))**.5) + tup[5])/tup[6]\n",
    "    \n",
    "    return list(zip(x, y))\n",
    "\n",
    "x = np.linspace(-6, 6, 20000)\n",
    "\n",
    "pika_points = []\n",
    "\n",
    "line_coeff = pd.read_csv(\"https://raw.githubusercontent.com/Dst017/Tutorial/main/line_coeff.csv\", header = None)\n",
    "pika_points.append(line_coeff.apply(lambda row: line(x, tuple(row)), axis = 1))\n",
    "\n",
    "elipse_coeff = pd.read_csv(\"https://raw.githubusercontent.com/Dst017/Tutorial/main/elipse_coeff.csv\", header = None)\n",
    "pika_points.append(elipse_coeff.apply(lambda row: elipse(x, tuple(row)), axis = 1))\n",
    "\n",
    "parabola_coeff = pd.read_csv(\"https://raw.githubusercontent.com/Dst017/Tutorial/main/parabola_coeff.csv\", header = None)\n",
    "pika_points.append(parabola_coeff.apply(lambda row: parabola(x, tuple(row)), axis = 1))\n",
    "\n",
    "hyperbola_coeff = pd.read_csv(\"https://raw.githubusercontent.com/Dst017/Tutorial/main/hyperbola_coeff.csv\", header = None)\n",
    "pika_points.append(hyperbola_coeff.apply(lambda row: hyperbola(x, tuple(row)), axis = 1))\n",
    "\n",
    "circle_coeff = pd.read_csv(\"https://raw.githubusercontent.com/Dst017/Tutorial/main/circle_coeff.csv\", header = None)\n",
    "pika_points.append(circle_coeff.apply(lambda row: circle(x, tuple(row)), axis = 1))\n",
    "\n",
    "weird_coeff = pd.read_csv(\"https://raw.githubusercontent.com/Dst017/Tutorial/main/weird_coeff.csv\", header = None)\n",
    "pika_points.append(weird_coeff.apply(lambda row: weird(x, tuple(row)), axis = 1))\n",
    "\n",
    "pika_points = [e for srs in pika_points for lst in srs for e in lst]\n",
    "\n",
    "pika_df = pd.DataFrame(pika_points, columns = [\"x\", \"y\"])\n",
    "\n",
    "warnings.filterwarnings('ignore')\n",
    "\n",
    "(\n",
    "    ggplot(pika_df, aes(x = \"x\", y = \"y\")) \n",
    "        + geom_point(size = 2) \n",
    "        + labs(x = \"chu\", y = \"Pika\", title = \"Pikachu\")\n",
    "        + theme_bw()\n",
    ")"
   ]
  }
 ],
 "metadata": {
  "kernelspec": {
   "display_name": "Python 3",
   "language": "python",
   "name": "python3"
  },
  "language_info": {
   "codemirror_mode": {
    "name": "ipython",
    "version": 3
   },
   "file_extension": ".py",
   "mimetype": "text/x-python",
   "name": "python",
   "nbconvert_exporter": "python",
   "pygments_lexer": "ipython3",
   "version": "3.9.1"
  }
 },
 "nbformat": 4,
 "nbformat_minor": 5
}
